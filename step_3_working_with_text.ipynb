{
 "cells": [
  {
   "cell_type": "code",
   "execution_count": 1,
   "id": "ffbdbfce",
   "metadata": {},
   "outputs": [],
   "source": [
    "import pandas as pd\n",
    "import numpy as np\n",
    "import re\n",
    "import seaborn as sns\n",
    "import matplotlib.pyplot as plt\n",
    "import random\n",
    "\n",
    "df = pd.read_csv(\"corrected.csv\",encoding=\"cp1252\")\n"
   ]
  },
  {
   "cell_type": "markdown",
   "id": "f0da03dd",
   "metadata": {},
   "source": [
    "# Finding Models per Company"
   ]
  },
  {
   "cell_type": "code",
   "execution_count": 2,
   "id": "c58a9826",
   "metadata": {},
   "outputs": [
    {
     "name": "stdout",
     "output_type": "stream",
     "text": [
      "Company Names\n",
      "Nissan               149\n",
      "Volkswagen           109\n",
      "Porsche               96\n",
      "Mazda                 87\n",
      "Mitsubishi            60\n",
      "GMC                   59\n",
      "Chevrolet             58\n",
      "Peugeot               54\n",
      "Kia                   54\n",
      "Ford                  54\n",
      "TOYOTA                45\n",
      "BMW                   41\n",
      "Jaguar Land Rover     40\n",
      "Tata Motors           29\n",
      "ROLLS ROYCE           29\n",
      "Acura                 27\n",
      "LAMBORGHINI           24\n",
      "HYUNDAI               23\n",
      "MERCEDES              21\n",
      "AUDI                  21\n",
      "Cadillac              20\n",
      "Jeep                  19\n",
      "KIA                   16\n",
      "ASTON MARTIN          11\n",
      "Tesla                 10\n",
      "NISSAN                10\n",
      "Bugatti               10\n",
      "FERRARI                9\n",
      "Volvo                  9\n",
      "HONDA                  7\n",
      "Toyota                 5\n",
      "MARUTI SUZUKI          3\n",
      "VOLVO                  3\n",
      "MAHINDRA               3\n",
      "KIA                    1\n",
      "BENTLEY                1\n",
      "ROLLS ROYCE            1\n",
      "Name: count, dtype: int64\n"
     ]
    }
   ],
   "source": [
    "total = df[\"Company Names\"].value_counts()\n",
    "print(total)"
   ]
  },
  {
   "cell_type": "markdown",
   "id": "036ecd00",
   "metadata": {},
   "source": [
    "# Finding most electric models"
   ]
  },
  {
   "cell_type": "code",
   "execution_count": 3,
   "id": "394518f4",
   "metadata": {},
   "outputs": [
    {
     "data": {
      "text/plain": [
       "Company Names\n",
       "Volkswagen    15\n",
       "Porsche       14\n",
       "Tesla         10\n",
       "GMC            8\n",
       "Kia            6\n",
       "Name: count, dtype: int64"
      ]
     },
     "execution_count": 3,
     "metadata": {},
     "output_type": "execute_result"
    }
   ],
   "source": [
    "new_df = df[df[\"Fuel Types\"] == \"Electric\"]\n",
    "\n",
    "new_df[\"Company Names\"].value_counts(ascending=False).head(5)\n"
   ]
  }
 ],
 "metadata": {
  "kernelspec": {
   "display_name": ".venv",
   "language": "python",
   "name": "python3"
  },
  "language_info": {
   "codemirror_mode": {
    "name": "ipython",
    "version": 3
   },
   "file_extension": ".py",
   "mimetype": "text/x-python",
   "name": "python",
   "nbconvert_exporter": "python",
   "pygments_lexer": "ipython3",
   "version": "3.13.7"
  }
 },
 "nbformat": 4,
 "nbformat_minor": 5
}
